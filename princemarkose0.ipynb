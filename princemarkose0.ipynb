{
  "nbformat": 4,
  "nbformat_minor": 0,
  "metadata": {
    "colab": {
      "name": "princemarkose0.ipynb",
      "provenance": []
    },
    "kernelspec": {
      "name": "python3",
      "display_name": "Python 3"
    },
    "language_info": {
      "name": "python"
    }
  },
  "cells": [
    {
      "cell_type": "code",
      "metadata": {
        "id": "BUjgdkOJzs6e"
      },
      "source": [
        "import requests \n",
        "from datetime import datetime\n",
        "api_key = '9142e8c7d560536f4e8f1e0ba492d9d6'\n",
        "location = input(\"Enter the city name:\")\n",
        "complete_api_link = \" https://api.openweathermap.org/data/2.5/weather?q=\"+location+\"&appid=\"+api_key\n",
        "api_link = requests.get(complete_api_link)\n",
        "api_data = api_link.json()\n",
        "temp_city =((api_data['main']['temp']) - 273.15)\n",
        "weather_desc = api_data['weather'] [0] ['description']\n",
        "hmdt = api_data['main'] ['humidity']\n",
        "wind_spd = api_data['wind'] ['speed']\n",
        "data_time = datetime.now() .strftime(\"%d %b %Y | %I:%M:%S %p\")\n",
        "print (\"-------------------------------------------------------------\")\n",
        "print (\"Weather status for -{} || {}\".format(location.upper(), data_time))\n",
        "print (\"-------------------------------------------------------------\")\n",
        "print(\"Current temperature is: {:.2f} deg C\".format(temp_city))\n",
        "print(\"Current weathger desc :\",weather_desc)\n",
        "print(\"Current Humidity      :\",wind_spd ,'kmph')\n"
      ],
      "execution_count": null,
      "outputs": []
    }
  ]
}